{
 "cells": [
  {
   "cell_type": "code",
   "execution_count": 108,
   "metadata": {},
   "outputs": [],
   "source": [
    "import pickle\n",
    "import MDAnalysis as mda\n",
    "import matplotlib.pyplot as plt\n",
    "import math\n",
    "import numpy as np\n",
    "import csv"
   ]
  },
  {
   "cell_type": "code",
   "execution_count": 109,
   "metadata": {},
   "outputs": [],
   "source": [
    "def matrix_addition(array1,array2):\n",
    "\n",
    "    # If arrays are of different lengths, you can pad the shorter one\n",
    "    if len(array1) > len(array2):\n",
    "        array2 = np.pad(array2, (0, len(array1) - len(array2)), 'constant')\n",
    "    else:\n",
    "        array1 = np.pad(array1, (0, len(array2) - len(array1)), 'constant')\n",
    "    \n",
    "    result = array1 + array2\n",
    "\n",
    "    return result\n",
    "# [1,2,3] + [4,5] = [5,7,3]"
   ]
  },
  {
   "cell_type": "code",
   "execution_count": 110,
   "metadata": {},
   "outputs": [],
   "source": [
    "# Load from a file\n",
    "with open(r'C:\\Users\\jeffs\\Documents\\Research_DrShen\\MSD\\data.pkl', 'rb') as file:\n",
    "    data = pickle.load(file)"
   ]
  },
  {
   "cell_type": "code",
   "execution_count": 111,
   "metadata": {},
   "outputs": [],
   "source": [
    "graphite_water_psf = r'C:\\Users\\jeffs\\Documents\\Research_DrShen\\MSD\\data_files\\unwrapped\\graphite_water.psf'\n",
    "graphite_trajectory_dcd = r'C:\\Users\\jeffs\\Documents\\Research_DrShen\\MSD\\data_files\\unwrapped\\output_per_20ps.dcd'\n",
    "\n",
    "global_uni = mda.Universe(graphite_water_psf,graphite_trajectory_dcd)\n",
    "Oxg_uni = global_uni.select_atoms('resname SPCE and name OW')\n",
    "# Importing data"
   ]
  },
  {
   "cell_type": "code",
   "execution_count": 112,
   "metadata": {},
   "outputs": [],
   "source": [
    "z_maxs = []\n",
    "\n",
    "for frame in range(len(global_uni.trajectory)):\n",
    "    global_uni.trajectory[frame]\n",
    "    z_vals = []\n",
    "    for atom in Oxg_uni.positions:\n",
    "        z_vals.append(atom[2])\n",
    "    z_maxs.append(max(z_vals))\n",
    "# Appends the max z_val in each frame to z_maxs\n",
    "\n",
    "average_z_max = sum(z_maxs)/len(z_maxs)\n",
    "partition_count = 4\n",
    "z_partitions = []\n",
    "\n",
    "for i in range(int(global_uni.dimensions[2] / 10)):\n",
    "    z_ceiling = i * 10\n",
    "    if average_z_max < z_ceiling:\n",
    "        for i in range(partition_count):\n",
    "            z_partitions.append(z_ceiling / 4 * (i + 1))\n",
    "        break\n",
    "# Creating a slightly generalized partition, essentially just making sure our partition ends further up then out average_z_max"
   ]
  },
  {
   "cell_type": "code",
   "execution_count": 113,
   "metadata": {},
   "outputs": [],
   "source": [
    "partition_msd = {}\n",
    "for i in range(len(z_partitions)):\n",
    "    partition_msd[i] = []\n",
    "# Creating following structure -> {0:[],1:[],...n:[]} (0,1,2,3)\n",
    "\n",
    "for atom in data.keys():\n",
    "    for i in range(len(z_partitions)):\n",
    "        partition_msd[i] = partition_msd[i] + data[atom][i]\n",
    "\n",
    "# Appending each elements list to partition_msd\n",
    "#                                          v Arrays are from all different atoms\n",
    "# Partition_msd follows the structure {0:[arr1,arr2,...],...}"
   ]
  },
  {
   "cell_type": "code",
   "execution_count": 114,
   "metadata": {},
   "outputs": [],
   "source": [
    "part_lengths = {}\n",
    "\n",
    "for partition in partition_msd:\n",
    "    part_lengths[partition] = []\n",
    "\n",
    "    for item in partition_msd[partition]:\n",
    "        part_lengths[partition].append(len(item))\n",
    "# Creating a dictionary of the structure {0:[len(arr1),len(arr2),...],...}\n",
    "# len(part_lengths[0]) == total amount of msd arrays, ie how much shifting occured in a certain partition\n",
    "# part_lengths.keys() is just the amount of partitions we got"
   ]
  },
  {
   "cell_type": "code",
   "execution_count": 115,
   "metadata": {},
   "outputs": [],
   "source": [
    "average_dict = {}\n",
    "\n",
    "for key in part_lengths.keys():\n",
    "\n",
    "    updated = sorted(part_lengths[key])\n",
    "    average_dict[key] = {}\n",
    "\n",
    "    while True:\n",
    "        try:\n",
    "            #print(len(updated), updated) | len(updated) -> total amount of arrays, updated -> array of lengths of arrays | updated[-1] -> length of longest array\n",
    "            lowest_len = min(updated)\n",
    "            average_dict[key][lowest_len] = len(updated)\n",
    "            updated = [element for element in updated if element != lowest_len]\n",
    "\n",
    "        except ValueError:\n",
    "            break\n",
    "\n",
    "# len(average_dict[0]) == len(partition_msd[0] - arrays of duplicate length)\n",
    "# Thus 184 arrays of unique length exist in partition_msd[0]\n",
    "# There exist 73903 arrays with at least 1 element | 52058 arrays with at least 2 elements | 42415 arrays with at least 3 elements | etc | 14 arrays with at least 187 elements | 1 arr with at least 233 elements \n",
    "# Divide 233 element by 1, 232e by 1, ..., 229e by 2, 228 by 2, ..."
   ]
  },
  {
   "cell_type": "code",
   "execution_count": 116,
   "metadata": {},
   "outputs": [],
   "source": [
    "longest_ar_dict = {}\n",
    "\n",
    "for key in average_dict:\n",
    "    longest_array = max(average_dict[key].keys())\n",
    "    longest_ar_dict[key] = longest_array\n",
    "\n",
    "# Dictionary with structure {partition:longest arr in part,...}"
   ]
  },
  {
   "cell_type": "code",
   "execution_count": 117,
   "metadata": {},
   "outputs": [],
   "source": [
    "averaged_msd = {}\n",
    "\n",
    "for key in partition_msd:\n",
    "    averaged_msd[key] = np.zeros(longest_ar_dict[key])\n",
    "# Turns {} -> {0:[...],...} with keys = 0,1,2,3 and len(dict[0]) being made up of all 0's and with the same length as the longest msd_array in msd_partition\n",
    "# longest_ar_dict[0] = 233\n",
    "\n",
    "for key in average_dict:\n",
    "    for matrix in partition_msd[key]:\n",
    "        averaged_msd[key] = matrix_addition(averaged_msd[key], matrix) \n",
    "    # Loops through each msd_arr and adds each of its elements to our current avg_msd arr for some partition\n"
   ]
  },
  {
   "cell_type": "code",
   "execution_count": 118,
   "metadata": {},
   "outputs": [],
   "source": [
    "division_to_key = {}\n",
    "\n",
    "for part in range(len(z_partitions)):\n",
    "    division_to_key[part] = {}\n",
    "    for i in range(len(average_dict[part].keys())):\n",
    "        try:\n",
    "            carkeys = average_dict[part].keys()\n",
    "            first_key = list(carkeys)[-(i + 1)]\n",
    "            prior_key = list(carkeys)[-(i + 2)]\n",
    "            first_value = average_dict[part][first_key]\n",
    "            delta = first_key - prior_key\n",
    "\n",
    "            for j in range(delta):\n",
    "                division_to_key[part][first_key - j] = first_value\n",
    "\n",
    "        except IndexError:\n",
    "            division_to_key[part][1] = average_dict[part][1]\n",
    "            #print('Completed process.')\n",
    "\n",
    "def reverse_secondary_indexes(sub_dict):\n",
    "    return {key: sub_dict[key] for key in sorted(sub_dict)}\n",
    "\n",
    "# Create a new dictionary with reversed secondary indexes\n",
    "division_to_key = {key: reverse_secondary_indexes(division_to_key[key]) for key in division_to_key}\n"
   ]
  },
  {
   "cell_type": "code",
   "execution_count": 119,
   "metadata": {},
   "outputs": [],
   "source": [
    "final_msd = {}\n",
    "\n",
    "for part in range(len(z_partitions)):\n",
    "    final_msd[part] = {}\n",
    "    for key in division_to_key[part]:\n",
    "\n",
    "        final_msd[part][key] = averaged_msd[part][key - 1] / division_to_key[part][key]\n",
    "        #                       ^Start at 0 goes to 232           ^Start at 1 go to 233"
   ]
  },
  {
   "cell_type": "code",
   "execution_count": 120,
   "metadata": {},
   "outputs": [],
   "source": [
    "final_final_msd = {}\n",
    "final_list_vals = {}\n",
    "\n",
    "for part in final_msd.keys():\n",
    "    final_final_msd[part] = []\n",
    "    final_list_vals[part] = []\n",
    "\n",
    "    for key in final_msd[part].keys():\n",
    "        final_list_vals[part].append(key)\n",
    "        final_final_msd[part].append(final_msd[part][key])"
   ]
  },
  {
   "cell_type": "code",
   "execution_count": 121,
   "metadata": {},
   "outputs": [
    {
     "data": {
      "image/png": "[encoded data removed]",
      "text/plain": [
       "<Figure size 640x480 with 1 Axes>"
      ]
     },
     "metadata": {},
     "output_type": "display_data"
    }
   ],
   "source": [
    "for i in range(len(z_partitions)):\n",
    "    x_vals = final_list_vals[i]\n",
    "    y_vals = final_final_msd[i]\n",
    "\n",
    "    plt.scatter(x_vals, y_vals)\n",
    "    plt.plot()"
   ]
  }
 ],
 "metadata": {
  "kernelspec": {
   "display_name": ".venv",
   "language": "python",
   "name": "python3"
  },
  "language_info": {
   "codemirror_mode": {
    "name": "ipython",
    "version": 3
   },
   "file_extension": ".py",
   "mimetype": "text/x-python",
   "name": "python",
   "nbconvert_exporter": "python",
   "pygments_lexer": "ipython3",
   "version": "3.11.4"
  }
 },
 "nbformat": 4,
 "nbformat_minor": 2
}
