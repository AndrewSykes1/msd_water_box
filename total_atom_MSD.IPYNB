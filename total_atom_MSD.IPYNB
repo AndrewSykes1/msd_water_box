{
 "cells": [
  {
   "cell_type": "code",
   "execution_count": 2,
   "metadata": {},
   "outputs": [
    {
     "name": "stderr",
     "output_type": "stream",
     "text": [
      "c:\\Users\\jeffs\\Documents\\Research_DrShen\\MSD\\.venv\\Lib\\site-packages\\tqdm\\auto.py:21: TqdmWarning: IProgress not found. Please update jupyter and ipywidgets. See https://ipywidgets.readthedocs.io/en/stable/user_install.html\n",
      "  from .autonotebook import tqdm as notebook_tqdm\n"
     ]
    }
   ],
   "source": [
    "import MDAnalysis as mda\n",
    "import matplotlib.pyplot as plt\n",
    "import math\n",
    "import numpy as np"
   ]
  },
  {
   "cell_type": "code",
   "execution_count": 3,
   "metadata": {},
   "outputs": [
    {
     "name": "stderr",
     "output_type": "stream",
     "text": [
      "c:\\Users\\jeffs\\Documents\\Research_DrShen\\MSD\\.venv\\Lib\\site-packages\\MDAnalysis\\coordinates\\DCD.py:165: DeprecationWarning: DCDReader currently makes independent timesteps by copying self.ts while other readers update self.ts inplace. This behavior will be changed in 3.0 to be the same as other readers. Read more at https://github.com/MDAnalysis/mdanalysis/issues/3889 to learn if this change in behavior might affect you.\n",
      "  warnings.warn(\"DCDReader currently makes independent timesteps\"\n"
     ]
    }
   ],
   "source": [
    "graphite_water_psf = r'C:\\Users\\jeffs\\Documents\\Research_DrShen\\MSD\\msd_water_box\\data_files\\graphite_water.psf'\n",
    "graphite_trajectory_dcd = r'C:\\Users\\jeffs\\Documents\\Research_DrShen\\MSD\\msd_water_box\\data_files\\output_per_40ps.dcd'\n",
    "global_uni = mda.Universe(graphite_water_psf,graphite_trajectory_dcd)\n",
    "global_uni.trajectory[0]\n",
    "SPCE_uni = global_uni.select_atoms('resname SPCE')"
   ]
  },
  {
   "cell_type": "code",
   "execution_count": 4,
   "metadata": {},
   "outputs": [],
   "source": [
    "frame_positions = {} # {frame_n:[[x_0, y_0, z_0], ...] , ... ], ... }\n",
    "for frame in range(len(global_uni.trajectory)):\n",
    "    global_uni.trajectory[frame]\n",
    "    frame_positions[frame] = SPCE_uni.positions\n",
    "\n",
    "z_maxs = []\n",
    "for frame in frame_positions.keys():\n",
    "    val_1 = []\n",
    "    val_2 = []\n",
    "    val_3 = []\n",
    "    for atom in frame_positions[frame]:\n",
    "        val_1.append(atom[0])\n",
    "        val_2.append(atom[1])\n",
    "        val_3.append(atom[2])\n",
    "    z_maxs.append(max(val_3))\n",
    "\n",
    "average_z_max = sum(z_maxs)/len(z_maxs)\n",
    "partition_count = 4\n",
    "z_partitions = []\n",
    "\n",
    "for i in range(int(global_uni.dimensions[2] / 10)):\n",
    "    z_ceiling = i * 10\n",
    "    if average_z_max < z_ceiling:\n",
    "        for i in range(partition_count):\n",
    "            z_partitions.append(z_ceiling / 4 * (i + 1))\n",
    "        break"
   ]
  },
  {
   "cell_type": "code",
   "execution_count": 5,
   "metadata": {},
   "outputs": [],
   "source": [
    "# Function to calculate MSD\n",
    "def calculate_msd(position_dict):\n",
    "    x_vals = np.array(position_dict['x_vals'])\n",
    "    y_vals = np.array(position_dict['y_vals'])\n",
    "    z_vals = np.array(position_dict['z_vals'])\n",
    "    \n",
    "    # Number of time points\n",
    "    num_points = len(x_vals)\n",
    "    \n",
    "    # Initialize MSD array\n",
    "    msd = np.zeros(num_points)\n",
    "    \n",
    "    # Calculate displacements and MSD\n",
    "    for dt in range(1, num_points):\n",
    "        displacements = []\n",
    "        for t in range(num_points - dt):\n",
    "            dx = x_vals[t + dt] - x_vals[t]\n",
    "            dy = y_vals[t + dt] - y_vals[t]\n",
    "            dz = z_vals[t + dt] - z_vals[t]\n",
    "            displacement_squared = dx**2 + dy**2 + dz**2\n",
    "            displacements.append(displacement_squared)\n",
    "        \n",
    "        msd[dt] = np.mean(displacements)\n",
    "    \n",
    "    return msd\n"
   ]
  },
  {
   "cell_type": "code",
   "execution_count": 18,
   "metadata": {},
   "outputs": [
    {
     "name": "stdout",
     "output_type": "stream",
     "text": [
      "100\n"
     ]
    }
   ],
   "source": [
    "\n",
    "for atom_num in range(len(SPCE_uni)):\n",
    "\n",
    "    atom_1_pos = {'x_vals':[],'y_vals':[],'z_vals':[]}\n",
    "    for frame in range(len(global_uni.trajectory)):\n",
    "        global_uni.trajectory[frame]\n",
    "        SPCE_positions = SPCE_uni.positions\n",
    "        atom_1_pos['x_vals'].append(SPCE_positions[0][0]) # SPCE_uni[atom_number][x or y or z]\n",
    "        atom_1_pos['y_vals'].append(SPCE_positions[0][1])\n",
    "        atom_1_pos['z_vals'].append(SPCE_positions[0][2])\n",
    "\n",
    "\n",
    "    atom_1_part_movement = []\n",
    "    atom_1_part = {}\n",
    "    ticker = -1\n",
    "\n",
    "    for i in range(len(atom_1_pos['z_vals'])): # Looping through each position point for atom 1 throughout the trajectory\n",
    "\n",
    "        if atom_1_pos['z_vals'][i] < z_partitions[0]:\n",
    "            current_part = 0\n",
    "        elif atom_1_pos['z_vals'][i] < z_partitions[1]:\n",
    "            current_part = 1\n",
    "        elif atom_1_pos['z_vals'][i] < z_partitions[2]:\n",
    "            current_part = 2 \n",
    "        elif atom_1_pos['z_vals'][i] < z_partitions[3]:\n",
    "            current_part = 3\n",
    "        # Asking what partition does the atom currently fall in\n",
    "\n",
    "        if len(atom_1_part_movement) == 0 or atom_1_part_movement[-1] != current_part:\n",
    "            ticker += 1\n",
    "            atom_1_part[ticker] = {'x_vals':[],'y_vals':[],'z_vals':[]}\n",
    "        # Asking, are we NOT in the same partition as 1 frame ago\n",
    "        # If  we are not in same partition, create data structure for atoms in new partition to be appended to\n",
    "        # (Also just creates stucture if we werent in a partition last frame [ie just started])\n",
    "\n",
    "        atom_1_part[ticker]['x_vals'].append(atom_1_pos['x_vals'][i])\n",
    "        atom_1_part[ticker]['y_vals'].append(atom_1_pos['y_vals'][i])\n",
    "        atom_1_part[ticker]['z_vals'].append(atom_1_pos['z_vals'][i])\n",
    "        atom_1_part_movement.append(current_part)\n",
    "        # With the correct structure in place, we append our x,y,z values to the correct location and append our current_part location\n",
    "\n",
    "    msd_dict = {}\n",
    "    msd_dict[atom_num] = {}\n",
    "    for key in atom_1_part.keys():\n",
    "        msd_dict[atom_num][key] = calculate_msd(atom_1_part[key])\n",
    "    \n",
    "    if atom_num == 100:\n",
    "        print(atom_num)\n",
    "        break\n",
    "\n",
    "# 100 atoms runtime: 16.0s\n",
    "# Removed MSD runtime ^: 14.6s -> 8.75% of runtime\n",
    "# Removed 2nd Section & MSD ^: 14.4s -> 2nd Section is 0% of runtime -> 1st Section is 90% of runtime\n",
    "# Theoretical runtime: len(SPCE_uni.atoms) / 100 * 16 /60 [min] -> 27.15min\n",
    "\n",
    "\n",
    "    "
   ]
  },
  {
   "cell_type": "code",
   "execution_count": 9,
   "metadata": {},
   "outputs": [
    {
     "name": "stdout",
     "output_type": "stream",
     "text": [
      "10182\n"
     ]
    }
   ],
   "source": [
    "print(len(SPCE_uni.atoms))"
   ]
  },
  {
   "cell_type": "code",
   "execution_count": 13,
   "metadata": {},
   "outputs": [
    {
     "name": "stdout",
     "output_type": "stream",
     "text": [
      "27.151999999999997\n"
     ]
    }
   ],
   "source": [
    "print(10182/100*16.0/60)"
   ]
  }
 ],
 "metadata": {
  "kernelspec": {
   "display_name": ".venv",
   "language": "python",
   "name": "python3"
  },
  "language_info": {
   "codemirror_mode": {
    "name": "ipython",
    "version": 3
   },
   "file_extension": ".py",
   "mimetype": "text/x-python",
   "name": "python",
   "nbconvert_exporter": "python",
   "pygments_lexer": "ipython3",
   "version": "3.11.4"
  }
 },
 "nbformat": 4,
 "nbformat_minor": 2
}
