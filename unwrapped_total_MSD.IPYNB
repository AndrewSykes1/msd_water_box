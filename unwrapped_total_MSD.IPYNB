{
 "cells": [
  {
   "cell_type": "code",
   "execution_count": 1,
   "metadata": {},
   "outputs": [
    {
     "name": "stderr",
     "output_type": "stream",
     "text": [
      "c:\\Users\\jeffs\\Documents\\Research_DrShen\\MSD\\.venv\\Lib\\site-packages\\tqdm\\auto.py:21: TqdmWarning: IProgress not found. Please update jupyter and ipywidgets. See https://ipywidgets.readthedocs.io/en/stable/user_install.html\n",
      "  from .autonotebook import tqdm as notebook_tqdm\n"
     ]
    }
   ],
   "source": [
    "import MDAnalysis as mda\n",
    "import matplotlib.pyplot as plt\n",
    "import math\n",
    "import numpy as np"
   ]
  },
  {
   "cell_type": "code",
   "execution_count": 2,
   "metadata": {},
   "outputs": [
    {
     "name": "stderr",
     "output_type": "stream",
     "text": [
      "c:\\Users\\jeffs\\Documents\\Research_DrShen\\MSD\\.venv\\Lib\\site-packages\\MDAnalysis\\coordinates\\DCD.py:165: DeprecationWarning: DCDReader currently makes independent timesteps by copying self.ts while other readers update self.ts inplace. This behavior will be changed in 3.0 to be the same as other readers. Read more at https://github.com/MDAnalysis/mdanalysis/issues/3889 to learn if this change in behavior might affect you.\n",
      "  warnings.warn(\"DCDReader currently makes independent timesteps\"\n"
     ]
    }
   ],
   "source": [
    "graphite_water_psf = r'C:\\Users\\jeffs\\Documents\\Research_DrShen\\MSD\\data_files\\unwrapped\\graphite_water.psf'\n",
    "graphite_trajectory_dcd = r'C:\\Users\\jeffs\\Documents\\Research_DrShen\\MSD\\data_files\\unwrapped\\output_per_20ps.dcd'\n",
    "\n",
    "global_uni = mda.Universe(graphite_water_psf,graphite_trajectory_dcd)\n",
    "Oxg_uni = global_uni.select_atoms('resname SPCE and name OW')\n",
    "# Importing data"
   ]
  },
  {
   "cell_type": "code",
   "execution_count": 3,
   "metadata": {},
   "outputs": [],
   "source": [
    "z_maxs = []\n",
    "\n",
    "for frame in range(len(global_uni.trajectory)):\n",
    "    global_uni.trajectory[frame]\n",
    "    z_vals = []\n",
    "    for atom in Oxg_uni.positions:\n",
    "        z_vals.append(atom[2])\n",
    "    z_maxs.append(max(z_vals))\n",
    "# Appends the max z_val in each frame to z_maxs\n",
    "\n",
    "average_z_max = sum(z_maxs)/len(z_maxs)\n",
    "partition_count = 4\n",
    "z_partitions = []\n",
    "\n",
    "for i in range(int(global_uni.dimensions[2] / 10)):\n",
    "    z_ceiling = i * 10\n",
    "    if average_z_max < z_ceiling:\n",
    "        for i in range(partition_count):\n",
    "            z_partitions.append(z_ceiling / 4 * (i + 1))\n",
    "        break\n",
    "# Creating a slightly generalized partition, essentially just making sure our partition ends further up then out average_z_max"
   ]
  },
  {
   "cell_type": "code",
   "execution_count": 4,
   "metadata": {},
   "outputs": [],
   "source": [
    "\n",
    "def calculate_msd(position_dict):\n",
    "\n",
    "    part_location = position_dict['location']\n",
    "    x_vals = np.array(position_dict['x_vals'])\n",
    "    y_vals = np.array(position_dict['y_vals'])\n",
    "    z_vals = np.array(position_dict['z_vals'])\n",
    "    # Import needed data\n",
    "\n",
    "    # Number of time points\n",
    "    num_points = len(x_vals)\n",
    "    \n",
    "    # Initialize MSD array\n",
    "    msd = np.zeros(num_points)\n",
    "    \n",
    "    # Calculate displacements and MSD\n",
    "    for dt in range(1, num_points):\n",
    "        displacements = []\n",
    "        for t in range(num_points - dt):\n",
    "            dx = x_vals[t + dt] - x_vals[t]\n",
    "            dy = y_vals[t + dt] - y_vals[t]\n",
    "            dz = z_vals[t + dt] - z_vals[t]\n",
    "            displacement_squared = dx**2 + dy**2 + dz**2\n",
    "            displacements.append(displacement_squared)\n",
    "        \n",
    "        msd[dt] = np.mean(displacements)\n",
    "    \n",
    "    return [msd, part_location]\n"
   ]
  },
  {
   "cell_type": "code",
   "execution_count": 5,
   "metadata": {},
   "outputs": [],
   "source": [
    "msd_dict = {}\n",
    "\n",
    "for atom_num in range(len(Oxg_uni)): # For each SPCE in our universe\n",
    "\n",
    "    atom_part_movement = []\n",
    "    atom_pos = {'x_vals':[],'y_vals':[],'z_vals':[]}\n",
    "\n",
    "    for frame in range(len(global_uni.trajectory)): # For each frame in our animation\n",
    "        global_uni.trajectory[frame] # Flip through each frame starting at 0 going to 500\n",
    "        Oxg_positions = Oxg_uni.positions \n",
    "        current_z = Oxg_positions[atom_num][2]\n",
    "\n",
    "        for i in range(len(z_partitions)): # For each partition we have\n",
    "            if current_z < z_partitions[i]: # If our current z_value is below our z_partition[i], we label the partition in the ith partition\n",
    "                if i != len(z_partitions): # If current_z was never less than z_partition[i], we know its above the partition. We then append said data and partition location\n",
    "                    atom_part_movement.append(i) \n",
    "                else:\n",
    "                    atom_part_movement.append(i + 1)\n",
    "\n",
    "                atom_pos['x_vals'].append(Oxg_positions[atom_num][0])\n",
    "                atom_pos['y_vals'].append(Oxg_positions[atom_num][1])\n",
    "                atom_pos['z_vals'].append(current_z)\n",
    "                break\n",
    "                # Append position data to dictionary for the specific atom we are in & break out of loop bc we know what partition we are in\n",
    "\n",
    "    atom_n_switch_and_pos = {}\n",
    "    ticker = -1\n",
    "\n",
    "    for i in range(len(atom_pos['z_vals'])): # Looping through each possible position point for atom 1 throughout the trajectory\n",
    "        if i == 0 or atom_part_movement[i - 1] != atom_part_movement[i]:\n",
    "            ticker += 1\n",
    "            atom_n_switch_and_pos[ticker] = {'location':atom_part_movement[i],'x_vals':[],'y_vals':[],'z_vals':[]}\n",
    "        # If we havent created a struct yet or our current part changed from the last part, create a struct\n",
    "\n",
    "        atom_n_switch_and_pos[ticker]['x_vals'].append(atom_pos['x_vals'][i])\n",
    "        atom_n_switch_and_pos[ticker]['y_vals'].append(atom_pos['y_vals'][i])\n",
    "        atom_n_switch_and_pos[ticker]['z_vals'].append(atom_pos['z_vals'][i])\n",
    "        # Appends positions to correct structure location\n",
    "\n",
    "\n",
    "    msd_dict[atom_num] = {}\n",
    "    for i in range(len(z_partitions)):\n",
    "        msd_dict[atom_num][i] = []\n",
    "\n",
    "    for key in atom_n_switch_and_pos.keys(): # For each partition switch n atom did\n",
    "        msd_array, msd_current_part = calculate_msd(atom_n_switch_and_pos[key])\n",
    "        msd_dict[atom_num][msd_current_part].append(msd_array)\n",
    "    # Stores MSD data in msd_dict for each atom & each partition shift\n",
    "\n",
    "#{ atom_number:{ a:[ [msd_0, msd_1, msd_2, ... ], [msd_0, msd_1, msd_2, ... ], ... ], b:[ ... ], ... }, ... }"
   ]
  },
  {
   "cell_type": "code",
   "execution_count": 6,
   "metadata": {},
   "outputs": [],
   "source": [
    "partition_msd = {}\n",
    "for i in range(len(z_partitions)):\n",
    "    partition_msd[i] = []\n",
    "# Creating following structure -> {0:[],1:[],...n:[]}\n",
    "\n",
    "for atom in msd_dict.keys():\n",
    "    for i in range(len(z_partitions)):\n",
    "        partition_msd[i] = partition_msd[i] + msd_dict[atom][i]\n",
    "# Appending each elements list to partition_msd"
   ]
  },
  {
   "cell_type": "code",
   "execution_count": 7,
   "metadata": {},
   "outputs": [],
   "source": [
    "structured_msd = {}\n",
    "\n",
    "for key in partition_msd.keys():\n",
    "    structured_msd[key] = {}\n",
    "    for item in partition_msd[key]:\n",
    "        if len(item) in structured_msd[key].keys():\n",
    "            structured_msd[key][len(item)].append(item)\n",
    "        else:\n",
    "            structured_msd[key][len(item)] = [item]"
   ]
  }
 ],
 "metadata": {
  "kernelspec": {
   "display_name": ".venv",
   "language": "python",
   "name": "python3"
  },
  "language_info": {
   "codemirror_mode": {
    "name": "ipython",
    "version": 3
   },
   "file_extension": ".py",
   "mimetype": "text/x-python",
   "name": "python",
   "nbconvert_exporter": "python",
   "pygments_lexer": "ipython3",
   "version": "3.11.4"
  }
 },
 "nbformat": 4,
 "nbformat_minor": 2
}
